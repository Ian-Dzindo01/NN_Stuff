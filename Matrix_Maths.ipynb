{
 "cells": [
  {
   "cell_type": "code",
   "execution_count": 1,
   "metadata": {},
   "outputs": [],
   "source": [
    "import numpy as np  \n",
    "import random\n",
    "\n",
    "class Matrix:\n",
    "    def __init__(self, nrows, ncols):\n",
    "        self.matrix = np.array([[0 for x in range(ncols)] for y in range(nrows)])\n",
    "        \n",
    "    def rand(self):\n",
    "        self.matrix = np.array([[random.uniform(1, 100) for x in range(self.matrix.shape[1])] for y in range(self.matrix.shape[0])])\n",
    "     \n",
    "    def multiply(self, n):\n",
    "        # matrix product\n",
    "        if isinstance(n, Matrix):\n",
    "            if(self.matrix.shape[1] == n.matrix.shape[0]):\n",
    "                result = Matrix(self.matrix.shape[0], n.matrix.shape[1])\n",
    "                \n",
    "                for i in range(self.matrix.shape[0]):\n",
    "                    for j in range(self.matrix.shape[0]):\n",
    "                        sum = 0\n",
    "                        for k in range(self.matrix.shape[1]):\n",
    "                            sum += self.matrix[i][k]*n.matrix[k][j]\n",
    "                            \n",
    "                        result.matrix[i][j] = sum \n",
    "            return result\n",
    "           \n",
    "        # scalar product\n",
    "        else:\n",
    "            for i in range(self.matrix.shape[0]):\n",
    "                for j in range(self.matrix.shape[1]):\n",
    "                    self.matrix[i][j] *= n\n",
    "                \n",
    "    def add(self, n):\n",
    "        if isinstance(n, Matrix):\n",
    "            for i in range(self.matrix.shape[0]):\n",
    "                for j in range(self.matrix.shape[1]):\n",
    "                    self.matrix[i][j] += n.matrix[i][j]\n",
    "           \n",
    "        else:\n",
    "            for i in range(self.matrix.shape[0]):\n",
    "                for j in range(self.matrix.shape[1]):\n",
    "                    self.matrix[i][j] += n\n",
    "                \n",
    "    def change(self, nrow, ncol, val):\n",
    "        self.matrix[nrow][ncol] = val\n",
    "                \n",
    "    def print(self):\n",
    "        print(self.matrix)\n",
    "        \n",
    "    \n",
    "    def t(self):\n",
    "        res = Matrix(self.matrix.shape[1], self.matrix.shape[0])\n",
    "        for i in range(self.matrix.shape[0]):\n",
    "            for j in range(self.matrix.shape[1]):\n",
    "                res.matrix[j][i] = self.matrix[i][j]\n",
    "                \n",
    "        return res"
   ]
  },
  {
   "cell_type": "code",
   "execution_count": 2,
   "metadata": {},
   "outputs": [
    {
     "name": "stdout",
     "output_type": "stream",
     "text": [
      "[[6 7 0]\n",
      " [7 2 6]]\n"
     ]
    }
   ],
   "source": [
    "m1 = Matrix(2,3)\n",
    "m2 = Matrix(3,2)\n",
    "m1.change(0,0,6)\n",
    "m1.change(0,1,7)\n",
    "m1.change(0,2,0)\n",
    "m1.change(1,0,7)\n",
    "m1.change(1,1,2)\n",
    "m1.change(1,2,6)\n",
    "m1.print()"
   ]
  },
  {
   "cell_type": "code",
   "execution_count": 3,
   "metadata": {},
   "outputs": [
    {
     "name": "stdout",
     "output_type": "stream",
     "text": [
      "[[5 3]\n",
      " [1 1]\n",
      " [5 1]]\n"
     ]
    }
   ],
   "source": [
    "m2.change(0,0,5)\n",
    "m2.change(0,1,3)\n",
    "m2.change(1,0,1)\n",
    "m2.change(1,1,1)\n",
    "m2.change(2,0,5)\n",
    "m2.change(2,1,1)\n",
    "m2.print()"
   ]
  },
  {
   "cell_type": "code",
   "execution_count": 4,
   "metadata": {},
   "outputs": [
    {
     "name": "stdout",
     "output_type": "stream",
     "text": [
      "[[5 1 5]\n",
      " [3 1 1]]\n"
     ]
    }
   ],
   "source": [
    "res = m2.t()\n",
    "res.print()"
   ]
  }
 ],
 "metadata": {
  "kernelspec": {
   "display_name": "Python 3",
   "language": "python",
   "name": "python3"
  },
  "language_info": {
   "codemirror_mode": {
    "name": "ipython",
    "version": 3
   },
   "file_extension": ".py",
   "mimetype": "text/x-python",
   "name": "python",
   "nbconvert_exporter": "python",
   "pygments_lexer": "ipython3",
   "version": "3.7.3"
  }
 },
 "nbformat": 4,
 "nbformat_minor": 2
}
