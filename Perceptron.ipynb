{
 "cells": [
  {
   "cell_type": "code",
   "execution_count": 1,
   "metadata": {},
   "outputs": [],
   "source": [
    "import random\n",
    "import seaborn as sns\n",
    "import matplotlib.pyplot as plt\n",
    "import numpy as np"
   ]
  },
  {
   "cell_type": "code",
   "execution_count": 2,
   "metadata": {},
   "outputs": [],
   "source": [
    "class Perceptron:\n",
    "    def __init__(self, n):\n",
    "        self.weights = [0] * n\n",
    "        self.lr = 0.1                               # learning rate\n",
    "        for w in range(len(self.weights)):\n",
    "            self.weights[w] = random.uniform(-1, 1)\n",
    "\n",
    "    def guess(self, inputs):\n",
    "        sum1 = 0\n",
    "        for i in range(len(inputs)):\n",
    "            sum1 += inputs[i] * self.weights[i]\n",
    " \n",
    "        output = 1 if sum1 > 0 else -1                # activation function\n",
    "        return output\n",
    "    \n",
    "    def guessY(self, x):\n",
    "        w0 = self.weights[0]\n",
    "        w1 = self.weights[1]\n",
    "        w2 = self.weights[2]\n",
    "        return -(w2/w1) - (w0/w1)* x\n",
    "        \n",
    "    def train(self, inputs, target):\n",
    "        guess = self.guess(inputs)\n",
    "        error = target - guess\n",
    "        \n",
    "        # Tuning the weights\n",
    "        for i in range(len(self.weights)):\n",
    "            self.weights[i] += error * inputs[i] * self.lr"
   ]
  },
  {
   "cell_type": "code",
   "execution_count": 3,
   "metadata": {},
   "outputs": [],
   "source": [
    "def f(x):\n",
    "    return 0.3*x + 0.2\n",
    "\n",
    "class Point:\n",
    "    def __init__(self, x=None, y=None):\n",
    "        self.bias = 1\n",
    "        if x == None and y == None:\n",
    "            self.x = random.uniform(-1, 1)\n",
    "            self.y = random.uniform(-1, 1)\n",
    "        else:\n",
    "            self.x = x\n",
    "            self.y = y\n",
    "            \n",
    "        lineY = f(self.x)\n",
    "        \n",
    "        if self.y > lineY:\n",
    "            self.label = 1\n",
    "        else:\n",
    "            self.label = -1\n",
    "            \n",
    "    def pixelX(self):                                   # returns the pixel value of x\n",
    "        return np.interp(self.x, [-1, 1], [0,400])     \n",
    "    \n",
    "    def pixelY(self):                                   # returns the pixel value of y\n",
    "        return np.interp(self.y, [-1, 1], [0,400])"
   ]
  },
  {
   "cell_type": "code",
   "execution_count": 4,
   "metadata": {},
   "outputs": [
    {
     "data": {
      "image/png": "[encoded data removed]",
      "text/plain": [
       "<Figure size 432x288 with 1 Axes>"
      ]
     },
     "metadata": {
      "needs_background": "light"
     },
     "output_type": "display_data"
    }
   ],
   "source": [
    "points = [Point() for _ in range(100)]\n",
    "\n",
    "for pt in points:\n",
    "    if pt.label == 1:\n",
    "        color = 'b'\n",
    "    else:\n",
    "        color = 'r'\n",
    "        \n",
    "    plt.plot(pt.pixelX(), pt.pixelY(), marker='o', markersize=3, color=color)\n",
    "    \n",
    "p2 = Point(-1, f(-1))\n",
    "p3 = Point(1, f(1))\n",
    "\n",
    "plt.plot([p2.pixelX(), p3.pixelX()], [p2.pixelY(), p3.pixelY()])\n",
    "plt.show()"
   ]
  },
  {
   "cell_type": "code",
   "execution_count": 5,
   "metadata": {},
   "outputs": [
    {
     "data": {
      "image/png": "[encoded data removed]",
      "text/plain": [
       "<Figure size 432x288 with 1 Axes>"
      ]
     },
     "metadata": {
      "needs_background": "light"
     },
     "output_type": "display_data"
    }
   ],
   "source": [
    "# readjusting the weights, using gradient descent\n",
    "# w = w + deltaw\n",
    "# deltaw = error*input\n",
    "# new weight = weight*error*input*learning_rate\n",
    "# we need a bias to correct for the (0,0) case\n",
    "\n",
    "#the green dots represent the points we got right and the red represent the points we got wrong\n",
    "\n",
    "p = Perceptron(3)\n",
    "for pt in points:\n",
    "    inputs = pt.x, pt.y, pt.bias\n",
    "    target = pt.label\n",
    "    p.train(inputs, pt.label)\n",
    "    guess = p.guess(inputs)\n",
    "    if target == 1:\n",
    "        plt.plot(pt.pixelX(), pt.pixelY(), marker='o', markersize=3, color='b')\n",
    "    else:\n",
    "        plt.plot(pt.pixelX(), pt.pixelY(), marker='o', markersize=3, color='r')\n",
    "\n",
    "# nnets are good universal function approximators \n",
    "p4 = Point(-1, p.guessY(-1))\n",
    "p5 = Point(1, p.guessY(1))   \n",
    "        \n",
    "# green represents the perceptrons line and blue represents the actual line\n",
    "plt.plot([p2.pixelX(), p3.pixelX()], [p2.pixelY(), p3.pixelY()], color='b')\n",
    "plt.plot([p4.pixelX(), p5.pixelX()], [p4.pixelY(), p5.pixelY()], color='g')\n",
    "\n",
    "plt.show()"
   ]
  },
  {
   "cell_type": "code",
   "execution_count": 6,
   "metadata": {},
   "outputs": [],
   "source": [
    "# multilayer perceptrons allow for modelling non-linear relationships, because you can link multiple statements together\n",
    "# while single layer perceptrons only allow for modelling linear relationships\n",
    "# scale the inputs to the neural net into a range\n",
    "# store the weights as a matrix \n",
    "# "
   ]
  }
 ],
 "metadata": {
  "kernelspec": {
   "display_name": "Python 3",
   "language": "python",
   "name": "python3"
  },
  "language_info": {
   "codemirror_mode": {
    "name": "ipython",
    "version": 3
   },
   "file_extension": ".py",
   "mimetype": "text/x-python",
   "name": "python",
   "nbconvert_exporter": "python",
   "pygments_lexer": "ipython3",
   "version": "3.7.3"
  }
 },
 "nbformat": 4,
 "nbformat_minor": 2
}
